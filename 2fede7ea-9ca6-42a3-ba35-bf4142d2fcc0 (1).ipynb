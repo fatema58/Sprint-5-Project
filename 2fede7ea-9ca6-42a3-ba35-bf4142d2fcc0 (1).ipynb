{
 "cells": [
  {
   "cell_type": "markdown",
   "metadata": {},
   "source": [
    "Analysis of Games progress for online store Ice"
   ]
  },
  {
   "cell_type": "markdown",
   "metadata": {},
   "source": [
    "This report is for the online store Ice, which sells video games all over the world. User and expert reviews, genres, platforms (e.g. Xbox or PlayStation), and historical data on game sales are available from open sources. WE need to identify patterns that determine whether a game succeeds or not. This will allow us to spot potential big winners and plan advertising campaigns.\n",
    "\n"
   ]
  },
  {
   "cell_type": "code",
   "execution_count": 2,
   "metadata": {},
   "outputs": [],
   "source": [
    "import pandas as pd\n",
    "import seaborn as sns\n",
    "import matplotlib.pyplot as plt\n",
    "from scipy import stats\n",
    "from scipy.stats import ttest_ind\n",
    "import datetime\n",
    "import numpy as np\n"
   ]
  },
  {
   "cell_type": "code",
   "execution_count": 3,
   "metadata": {},
   "outputs": [],
   "source": [
    "# Load the dataset\n",
    "games_df = pd.read_csv(\"/datasets/games.csv\")"
   ]
  },
  {
   "cell_type": "code",
   "execution_count": 4,
   "metadata": {},
   "outputs": [
    {
     "name": "stdout",
     "output_type": "stream",
     "text": [
      "<class 'pandas.core.frame.DataFrame'>\n",
      "RangeIndex: 16715 entries, 0 to 16714\n",
      "Data columns (total 11 columns):\n",
      " #   Column           Non-Null Count  Dtype  \n",
      "---  ------           --------------  -----  \n",
      " 0   Name             16713 non-null  object \n",
      " 1   Platform         16715 non-null  object \n",
      " 2   Year_of_Release  16446 non-null  float64\n",
      " 3   Genre            16713 non-null  object \n",
      " 4   NA_sales         16715 non-null  float64\n",
      " 5   EU_sales         16715 non-null  float64\n",
      " 6   JP_sales         16715 non-null  float64\n",
      " 7   Other_sales      16715 non-null  float64\n",
      " 8   Critic_Score     8137 non-null   float64\n",
      " 9   User_Score       10014 non-null  object \n",
      " 10  Rating           9949 non-null   object \n",
      "dtypes: float64(6), object(5)\n",
      "memory usage: 1.4+ MB\n"
     ]
    }
   ],
   "source": [
    "# Display general information\n",
    "games_df.info()"
   ]
  },
  {
   "cell_type": "code",
   "execution_count": 5,
   "metadata": {},
   "outputs": [
    {
     "data": {
      "text/html": [
       "<div>\n",
       "<style scoped>\n",
       "    .dataframe tbody tr th:only-of-type {\n",
       "        vertical-align: middle;\n",
       "    }\n",
       "\n",
       "    .dataframe tbody tr th {\n",
       "        vertical-align: top;\n",
       "    }\n",
       "\n",
       "    .dataframe thead th {\n",
       "        text-align: right;\n",
       "    }\n",
       "</style>\n",
       "<table border=\"1\" class=\"dataframe\">\n",
       "  <thead>\n",
       "    <tr style=\"text-align: right;\">\n",
       "      <th></th>\n",
       "      <th>Name</th>\n",
       "      <th>Platform</th>\n",
       "      <th>Year_of_Release</th>\n",
       "      <th>Genre</th>\n",
       "      <th>NA_sales</th>\n",
       "      <th>EU_sales</th>\n",
       "      <th>JP_sales</th>\n",
       "      <th>Other_sales</th>\n",
       "      <th>Critic_Score</th>\n",
       "      <th>User_Score</th>\n",
       "      <th>Rating</th>\n",
       "    </tr>\n",
       "  </thead>\n",
       "  <tbody>\n",
       "    <tr>\n",
       "      <th>0</th>\n",
       "      <td>Wii Sports</td>\n",
       "      <td>Wii</td>\n",
       "      <td>2006.0</td>\n",
       "      <td>Sports</td>\n",
       "      <td>41.36</td>\n",
       "      <td>28.96</td>\n",
       "      <td>3.77</td>\n",
       "      <td>8.45</td>\n",
       "      <td>76.0</td>\n",
       "      <td>8</td>\n",
       "      <td>E</td>\n",
       "    </tr>\n",
       "    <tr>\n",
       "      <th>1</th>\n",
       "      <td>Super Mario Bros.</td>\n",
       "      <td>NES</td>\n",
       "      <td>1985.0</td>\n",
       "      <td>Platform</td>\n",
       "      <td>29.08</td>\n",
       "      <td>3.58</td>\n",
       "      <td>6.81</td>\n",
       "      <td>0.77</td>\n",
       "      <td>NaN</td>\n",
       "      <td>NaN</td>\n",
       "      <td>NaN</td>\n",
       "    </tr>\n",
       "    <tr>\n",
       "      <th>2</th>\n",
       "      <td>Mario Kart Wii</td>\n",
       "      <td>Wii</td>\n",
       "      <td>2008.0</td>\n",
       "      <td>Racing</td>\n",
       "      <td>15.68</td>\n",
       "      <td>12.76</td>\n",
       "      <td>3.79</td>\n",
       "      <td>3.29</td>\n",
       "      <td>82.0</td>\n",
       "      <td>8.3</td>\n",
       "      <td>E</td>\n",
       "    </tr>\n",
       "    <tr>\n",
       "      <th>3</th>\n",
       "      <td>Wii Sports Resort</td>\n",
       "      <td>Wii</td>\n",
       "      <td>2009.0</td>\n",
       "      <td>Sports</td>\n",
       "      <td>15.61</td>\n",
       "      <td>10.93</td>\n",
       "      <td>3.28</td>\n",
       "      <td>2.95</td>\n",
       "      <td>80.0</td>\n",
       "      <td>8</td>\n",
       "      <td>E</td>\n",
       "    </tr>\n",
       "    <tr>\n",
       "      <th>4</th>\n",
       "      <td>Pokemon Red/Pokemon Blue</td>\n",
       "      <td>GB</td>\n",
       "      <td>1996.0</td>\n",
       "      <td>Role-Playing</td>\n",
       "      <td>11.27</td>\n",
       "      <td>8.89</td>\n",
       "      <td>10.22</td>\n",
       "      <td>1.00</td>\n",
       "      <td>NaN</td>\n",
       "      <td>NaN</td>\n",
       "      <td>NaN</td>\n",
       "    </tr>\n",
       "  </tbody>\n",
       "</table>\n",
       "</div>"
      ],
      "text/plain": [
       "                       Name Platform  Year_of_Release         Genre  NA_sales  \\\n",
       "0                Wii Sports      Wii           2006.0        Sports     41.36   \n",
       "1         Super Mario Bros.      NES           1985.0      Platform     29.08   \n",
       "2            Mario Kart Wii      Wii           2008.0        Racing     15.68   \n",
       "3         Wii Sports Resort      Wii           2009.0        Sports     15.61   \n",
       "4  Pokemon Red/Pokemon Blue       GB           1996.0  Role-Playing     11.27   \n",
       "\n",
       "   EU_sales  JP_sales  Other_sales  Critic_Score User_Score Rating  \n",
       "0     28.96      3.77         8.45          76.0          8      E  \n",
       "1      3.58      6.81         0.77           NaN        NaN    NaN  \n",
       "2     12.76      3.79         3.29          82.0        8.3      E  \n",
       "3     10.93      3.28         2.95          80.0          8      E  \n",
       "4      8.89     10.22         1.00           NaN        NaN    NaN  "
      ]
     },
     "execution_count": 5,
     "metadata": {},
     "output_type": "execute_result"
    }
   ],
   "source": [
    "games_df.head()"
   ]
  },
  {
   "cell_type": "code",
   "execution_count": 6,
   "metadata": {},
   "outputs": [
    {
     "data": {
      "text/html": [
       "<div>\n",
       "<style scoped>\n",
       "    .dataframe tbody tr th:only-of-type {\n",
       "        vertical-align: middle;\n",
       "    }\n",
       "\n",
       "    .dataframe tbody tr th {\n",
       "        vertical-align: top;\n",
       "    }\n",
       "\n",
       "    .dataframe thead th {\n",
       "        text-align: right;\n",
       "    }\n",
       "</style>\n",
       "<table border=\"1\" class=\"dataframe\">\n",
       "  <thead>\n",
       "    <tr style=\"text-align: right;\">\n",
       "      <th></th>\n",
       "      <th>name</th>\n",
       "      <th>platform</th>\n",
       "      <th>year_of_release</th>\n",
       "      <th>genre</th>\n",
       "      <th>na_sales</th>\n",
       "      <th>eu_sales</th>\n",
       "      <th>jp_sales</th>\n",
       "      <th>other_sales</th>\n",
       "      <th>critic_score</th>\n",
       "      <th>user_score</th>\n",
       "      <th>rating</th>\n",
       "    </tr>\n",
       "  </thead>\n",
       "  <tbody>\n",
       "    <tr>\n",
       "      <th>0</th>\n",
       "      <td>Wii Sports</td>\n",
       "      <td>Wii</td>\n",
       "      <td>2006.0</td>\n",
       "      <td>Sports</td>\n",
       "      <td>41.36</td>\n",
       "      <td>28.96</td>\n",
       "      <td>3.77</td>\n",
       "      <td>8.45</td>\n",
       "      <td>76.0</td>\n",
       "      <td>8</td>\n",
       "      <td>E</td>\n",
       "    </tr>\n",
       "    <tr>\n",
       "      <th>1</th>\n",
       "      <td>Super Mario Bros.</td>\n",
       "      <td>NES</td>\n",
       "      <td>1985.0</td>\n",
       "      <td>Platform</td>\n",
       "      <td>29.08</td>\n",
       "      <td>3.58</td>\n",
       "      <td>6.81</td>\n",
       "      <td>0.77</td>\n",
       "      <td>NaN</td>\n",
       "      <td>NaN</td>\n",
       "      <td>NaN</td>\n",
       "    </tr>\n",
       "    <tr>\n",
       "      <th>2</th>\n",
       "      <td>Mario Kart Wii</td>\n",
       "      <td>Wii</td>\n",
       "      <td>2008.0</td>\n",
       "      <td>Racing</td>\n",
       "      <td>15.68</td>\n",
       "      <td>12.76</td>\n",
       "      <td>3.79</td>\n",
       "      <td>3.29</td>\n",
       "      <td>82.0</td>\n",
       "      <td>8.3</td>\n",
       "      <td>E</td>\n",
       "    </tr>\n",
       "    <tr>\n",
       "      <th>3</th>\n",
       "      <td>Wii Sports Resort</td>\n",
       "      <td>Wii</td>\n",
       "      <td>2009.0</td>\n",
       "      <td>Sports</td>\n",
       "      <td>15.61</td>\n",
       "      <td>10.93</td>\n",
       "      <td>3.28</td>\n",
       "      <td>2.95</td>\n",
       "      <td>80.0</td>\n",
       "      <td>8</td>\n",
       "      <td>E</td>\n",
       "    </tr>\n",
       "    <tr>\n",
       "      <th>4</th>\n",
       "      <td>Pokemon Red/Pokemon Blue</td>\n",
       "      <td>GB</td>\n",
       "      <td>1996.0</td>\n",
       "      <td>Role-Playing</td>\n",
       "      <td>11.27</td>\n",
       "      <td>8.89</td>\n",
       "      <td>10.22</td>\n",
       "      <td>1.00</td>\n",
       "      <td>NaN</td>\n",
       "      <td>NaN</td>\n",
       "      <td>NaN</td>\n",
       "    </tr>\n",
       "    <tr>\n",
       "      <th>5</th>\n",
       "      <td>Tetris</td>\n",
       "      <td>GB</td>\n",
       "      <td>1989.0</td>\n",
       "      <td>Puzzle</td>\n",
       "      <td>23.20</td>\n",
       "      <td>2.26</td>\n",
       "      <td>4.22</td>\n",
       "      <td>0.58</td>\n",
       "      <td>NaN</td>\n",
       "      <td>NaN</td>\n",
       "      <td>NaN</td>\n",
       "    </tr>\n",
       "    <tr>\n",
       "      <th>6</th>\n",
       "      <td>New Super Mario Bros.</td>\n",
       "      <td>DS</td>\n",
       "      <td>2006.0</td>\n",
       "      <td>Platform</td>\n",
       "      <td>11.28</td>\n",
       "      <td>9.14</td>\n",
       "      <td>6.50</td>\n",
       "      <td>2.88</td>\n",
       "      <td>89.0</td>\n",
       "      <td>8.5</td>\n",
       "      <td>E</td>\n",
       "    </tr>\n",
       "    <tr>\n",
       "      <th>7</th>\n",
       "      <td>Wii Play</td>\n",
       "      <td>Wii</td>\n",
       "      <td>2006.0</td>\n",
       "      <td>Misc</td>\n",
       "      <td>13.96</td>\n",
       "      <td>9.18</td>\n",
       "      <td>2.93</td>\n",
       "      <td>2.84</td>\n",
       "      <td>58.0</td>\n",
       "      <td>6.6</td>\n",
       "      <td>E</td>\n",
       "    </tr>\n",
       "    <tr>\n",
       "      <th>8</th>\n",
       "      <td>New Super Mario Bros. Wii</td>\n",
       "      <td>Wii</td>\n",
       "      <td>2009.0</td>\n",
       "      <td>Platform</td>\n",
       "      <td>14.44</td>\n",
       "      <td>6.94</td>\n",
       "      <td>4.70</td>\n",
       "      <td>2.24</td>\n",
       "      <td>87.0</td>\n",
       "      <td>8.4</td>\n",
       "      <td>E</td>\n",
       "    </tr>\n",
       "    <tr>\n",
       "      <th>9</th>\n",
       "      <td>Duck Hunt</td>\n",
       "      <td>NES</td>\n",
       "      <td>1984.0</td>\n",
       "      <td>Shooter</td>\n",
       "      <td>26.93</td>\n",
       "      <td>0.63</td>\n",
       "      <td>0.28</td>\n",
       "      <td>0.47</td>\n",
       "      <td>NaN</td>\n",
       "      <td>NaN</td>\n",
       "      <td>NaN</td>\n",
       "    </tr>\n",
       "  </tbody>\n",
       "</table>\n",
       "</div>"
      ],
      "text/plain": [
       "                        name platform  year_of_release         genre  \\\n",
       "0                 Wii Sports      Wii           2006.0        Sports   \n",
       "1          Super Mario Bros.      NES           1985.0      Platform   \n",
       "2             Mario Kart Wii      Wii           2008.0        Racing   \n",
       "3          Wii Sports Resort      Wii           2009.0        Sports   \n",
       "4   Pokemon Red/Pokemon Blue       GB           1996.0  Role-Playing   \n",
       "5                     Tetris       GB           1989.0        Puzzle   \n",
       "6      New Super Mario Bros.       DS           2006.0      Platform   \n",
       "7                   Wii Play      Wii           2006.0          Misc   \n",
       "8  New Super Mario Bros. Wii      Wii           2009.0      Platform   \n",
       "9                  Duck Hunt      NES           1984.0       Shooter   \n",
       "\n",
       "   na_sales  eu_sales  jp_sales  other_sales  critic_score user_score rating  \n",
       "0     41.36     28.96      3.77         8.45          76.0          8      E  \n",
       "1     29.08      3.58      6.81         0.77           NaN        NaN    NaN  \n",
       "2     15.68     12.76      3.79         3.29          82.0        8.3      E  \n",
       "3     15.61     10.93      3.28         2.95          80.0          8      E  \n",
       "4     11.27      8.89     10.22         1.00           NaN        NaN    NaN  \n",
       "5     23.20      2.26      4.22         0.58           NaN        NaN    NaN  \n",
       "6     11.28      9.14      6.50         2.88          89.0        8.5      E  \n",
       "7     13.96      9.18      2.93         2.84          58.0        6.6      E  \n",
       "8     14.44      6.94      4.70         2.24          87.0        8.4      E  \n",
       "9     26.93      0.63      0.28         0.47           NaN        NaN    NaN  "
      ]
     },
     "execution_count": 6,
     "metadata": {},
     "output_type": "execute_result"
    }
   ],
   "source": [
    "# Replace column names with lowercase\n",
    "games_df.columns = games_df.columns.str.lower()\n",
    "games_df.head(10)"
   ]
  },
  {
   "cell_type": "code",
   "execution_count": 7,
   "metadata": {},
   "outputs": [
    {
     "data": {
      "text/plain": [
       "0"
      ]
     },
     "execution_count": 7,
     "metadata": {},
     "output_type": "execute_result"
    }
   ],
   "source": [
    "#Checking for duplicates\n",
    "games_df.duplicated().sum()"
   ]
  },
  {
   "cell_type": "markdown",
   "metadata": {},
   "source": [
    "No Duplicates Found"
   ]
  },
  {
   "cell_type": "code",
   "execution_count": 8,
   "metadata": {},
   "outputs": [],
   "source": [
    "# Convert data types\n",
    "games_df['year_of_release'] = pd.to_datetime(games_df['year_of_release'], format='%Y')\n",
    "games_df['user_score'] = pd.to_numeric(games_df['user_score'], errors='coerce')"
   ]
  },
  {
   "cell_type": "code",
   "execution_count": 9,
   "metadata": {},
   "outputs": [],
   "source": [
    "# Replace 'TBD' values with NA\n",
    "games_df.loc[games_df['user_score'] == 'tbd', 'user_score'] = pd.NA\n"
   ]
  },
  {
   "cell_type": "markdown",
   "metadata": {},
   "source": [
    "When handling the abbreviation \"TBD\" (to be determined) in the dataset, it's important to interpret it as a missing value. Here's how I intend to handle such cases:\n",
    "\n",
    "Replace 'TBD' with NaN: First, I will replace all occurrences of 'TBD' with NaN (Not a Number), which is the standard missing value representation in pandas.\n",
    "\n",
    "Convert data type: If necessary, I will convert the affected column to a numeric data type after replacing 'TBD' with NaN. This will ensure consistency in data types and allow for further analysis.\n",
    "\n",
    "Imputation: Depending on the context and the specific column, I may choose to handle missing values using imputation techniques such as mean, median, or forward/backward filling.\n",
    "\n",
    "Analysis and visualization: After handling missing values, I will proceed with the analysis and visualization of the data, ensuring that missing values are appropriately accounted for and do not skew the results.\n",
    "\n",
    "By treating \"TBD\" as missing values and handling them accordingly, we ensure that the analysis is based on accurate and consistent data"
   ]
  },
  {
   "cell_type": "code",
   "execution_count": 10,
   "metadata": {},
   "outputs": [],
   "source": [
    "# Convert 'user_score' to numeric\n",
    "games_df['user_score'] = pd.to_numeric(games_df['user_score'])"
   ]
  },
  {
   "cell_type": "markdown",
   "metadata": {},
   "source": [
    "The 'year_of_release' column was converted to datetime to ensure proper date handling.\n",
    "The 'user_score' column was converted to numeric, handling 'TBD' values as missing values."
   ]
  },
  {
   "cell_type": "code",
   "execution_count": 11,
   "metadata": {},
   "outputs": [
    {
     "data": {
      "text/plain": [
       "name                  2\n",
       "platform              0\n",
       "year_of_release     269\n",
       "genre                 2\n",
       "na_sales              0\n",
       "eu_sales              0\n",
       "jp_sales              0\n",
       "other_sales           0\n",
       "critic_score       8578\n",
       "user_score         9125\n",
       "rating             6766\n",
       "dtype: int64"
      ]
     },
     "execution_count": 11,
     "metadata": {},
     "output_type": "execute_result"
    }
   ],
   "source": [
    "# Checking missing values\n",
    "games_df.isnull().sum()"
   ]
  },
  {
   "cell_type": "code",
   "execution_count": 12,
   "metadata": {},
   "outputs": [
    {
     "data": {
      "text/html": [
       "<div>\n",
       "<style scoped>\n",
       "    .dataframe tbody tr th:only-of-type {\n",
       "        vertical-align: middle;\n",
       "    }\n",
       "\n",
       "    .dataframe tbody tr th {\n",
       "        vertical-align: top;\n",
       "    }\n",
       "\n",
       "    .dataframe thead th {\n",
       "        text-align: right;\n",
       "    }\n",
       "</style>\n",
       "<table border=\"1\" class=\"dataframe\">\n",
       "  <thead>\n",
       "    <tr style=\"text-align: right;\">\n",
       "      <th></th>\n",
       "      <th>missing_values</th>\n",
       "      <th>%</th>\n",
       "    </tr>\n",
       "  </thead>\n",
       "  <tbody>\n",
       "    <tr>\n",
       "      <th>user_score</th>\n",
       "      <td>9125</td>\n",
       "      <td>0.546</td>\n",
       "    </tr>\n",
       "    <tr>\n",
       "      <th>critic_score</th>\n",
       "      <td>8578</td>\n",
       "      <td>0.513</td>\n",
       "    </tr>\n",
       "    <tr>\n",
       "      <th>rating</th>\n",
       "      <td>6766</td>\n",
       "      <td>0.405</td>\n",
       "    </tr>\n",
       "    <tr>\n",
       "      <th>year_of_release</th>\n",
       "      <td>269</td>\n",
       "      <td>0.016</td>\n",
       "    </tr>\n",
       "    <tr>\n",
       "      <th>name</th>\n",
       "      <td>2</td>\n",
       "      <td>0.000</td>\n",
       "    </tr>\n",
       "    <tr>\n",
       "      <th>platform</th>\n",
       "      <td>0</td>\n",
       "      <td>0.000</td>\n",
       "    </tr>\n",
       "    <tr>\n",
       "      <th>genre</th>\n",
       "      <td>2</td>\n",
       "      <td>0.000</td>\n",
       "    </tr>\n",
       "    <tr>\n",
       "      <th>na_sales</th>\n",
       "      <td>0</td>\n",
       "      <td>0.000</td>\n",
       "    </tr>\n",
       "    <tr>\n",
       "      <th>eu_sales</th>\n",
       "      <td>0</td>\n",
       "      <td>0.000</td>\n",
       "    </tr>\n",
       "    <tr>\n",
       "      <th>jp_sales</th>\n",
       "      <td>0</td>\n",
       "      <td>0.000</td>\n",
       "    </tr>\n",
       "    <tr>\n",
       "      <th>other_sales</th>\n",
       "      <td>0</td>\n",
       "      <td>0.000</td>\n",
       "    </tr>\n",
       "  </tbody>\n",
       "</table>\n",
       "</div>"
      ],
      "text/plain": [
       "                 missing_values      %\n",
       "user_score                 9125  0.546\n",
       "critic_score               8578  0.513\n",
       "rating                     6766  0.405\n",
       "year_of_release             269  0.016\n",
       "name                          2  0.000\n",
       "platform                      0  0.000\n",
       "genre                         2  0.000\n",
       "na_sales                      0  0.000\n",
       "eu_sales                      0  0.000\n",
       "jp_sales                      0  0.000\n",
       "other_sales                   0  0.000"
      ]
     },
     "execution_count": 12,
     "metadata": {},
     "output_type": "execute_result"
    }
   ],
   "source": [
    "mis_values = games_df.isnull().sum().to_frame('missing_values')\n",
    "mis_values['%'] = round(games_df.isnull().sum()/len(games_df),3)\n",
    "mis_values.sort_values(by='%', ascending=False)"
   ]
  },
  {
   "cell_type": "code",
   "execution_count": 13,
   "metadata": {},
   "outputs": [],
   "source": [
    "# Handling missing values in 'name'\n",
    "games_df['name'].fillna('Unknown', inplace=True)"
   ]
  },
  {
   "cell_type": "code",
   "execution_count": 14,
   "metadata": {},
   "outputs": [],
   "source": [
    "# Handling missing values in 'year_of_release'\n",
    "games_df['year_of_release'] = games_df['year_of_release'].ffill()"
   ]
  },
  {
   "cell_type": "code",
   "execution_count": 15,
   "metadata": {},
   "outputs": [],
   "source": [
    "# Handling missing values in 'genre'\n",
    "games_df['genre'].fillna('Unknown', inplace=True)"
   ]
  },
  {
   "cell_type": "code",
   "execution_count": 16,
   "metadata": {},
   "outputs": [],
   "source": [
    "# Handling missing values in 'critic_score'\n",
    "numeric_columns = ['critic_score']  # Add other numeric columns as needed\n",
    "for column in numeric_columns:\n",
    "    median_value = games_df[column].median()\n",
    "    games_df[column].fillna(median_value, inplace=True)"
   ]
  },
  {
   "cell_type": "code",
   "execution_count": 17,
   "metadata": {},
   "outputs": [],
   "source": [
    "# Handling missing values in 'user_score'\n",
    "games_df['user_score'].replace('tbd', pd.NA, inplace=True)\n"
   ]
  },
  {
   "cell_type": "code",
   "execution_count": 18,
   "metadata": {},
   "outputs": [],
   "source": [
    "# Convert 'user_score' to numeric type\n",
    "games_df['user_score'] = pd.to_numeric(games_df['user_score'], errors='coerce')"
   ]
  },
  {
   "cell_type": "code",
   "execution_count": 19,
   "metadata": {},
   "outputs": [],
   "source": [
    "# Impute missing values in 'user_score' with median\n",
    "median_user_score = games_df['user_score'].median()\n",
    "games_df['user_score'].fillna(median_user_score, inplace=True)"
   ]
  },
  {
   "cell_type": "code",
   "execution_count": 20,
   "metadata": {},
   "outputs": [],
   "source": [
    "# Handling missing values in 'rating'\n",
    "games_df['rating'].fillna('Unknown', inplace=True)\n"
   ]
  },
  {
   "cell_type": "markdown",
   "metadata": {},
   "source": [
    "Using the last valid observation, also known as forward fill (ffill), can be applicable in scenarios where missing values occur in a time series dataset or in data where the observations have some inherent order or continuity. \n",
    "\n",
    "I used it because in time series data, observations often follow a sequential order, such as years, months, or days. In such cases, the data between two valid observations is assumed to have a similar trend. Therefore, filling missing values with the last valid observation preserves the temporal continuity of the data. Also when missing values occur in a time series or ordered dataset, it's often assumed that neighboring observations are similar. Filling missing values with the last valid observation leverages this assumption by using the most recent known value as a proxy for the missing one.\n",
    "But i do realise i can use the median method to impute missing values in categorical columns with mode or median. \n",
    "For name  and genre, i have used inplace since dropping columns is not feasible. Thus i have replaced the missing name values with a placeholder.\n",
    "I kept year_of_release to ffil method since it is a time series data. \n",
    "for critic_score, user_score and rating columns i have replaced 'TBD' with Nan, converted user_score and critic_score to numerical, added a categorical or numeric column as required."
   ]
  },
  {
   "cell_type": "markdown",
   "metadata": {},
   "source": [
    "i have updated the rating column code for missing values. i have replaced the missing values with 'Unknown'. "
   ]
  },
  {
   "cell_type": "code",
   "execution_count": 21,
   "metadata": {},
   "outputs": [
    {
     "data": {
      "text/plain": [
       "name               0\n",
       "platform           0\n",
       "year_of_release    0\n",
       "genre              0\n",
       "na_sales           0\n",
       "eu_sales           0\n",
       "jp_sales           0\n",
       "other_sales        0\n",
       "critic_score       0\n",
       "user_score         0\n",
       "rating             0\n",
       "dtype: int64"
      ]
     },
     "execution_count": 21,
     "metadata": {},
     "output_type": "execute_result"
    }
   ],
   "source": [
    "games_df.isnull().sum()"
   ]
  },
  {
   "cell_type": "markdown",
   "metadata": {},
   "source": [
    "All the missing values hs been cleared"
   ]
  },
  {
   "cell_type": "markdown",
   "metadata": {},
   "source": []
  },
  {
   "cell_type": "markdown",
   "metadata": {},
   "source": [
    "# Why do you think the values are missing? Give possible reasons."
   ]
  },
  {
   "cell_type": "markdown",
   "metadata": {},
   "source": [
    "There can be several reasons why values are missing in the dataset:\n",
    "\n",
    "Data collection errors: During the process of collecting data, there may have been errors or omissions, leading to missing values.\n",
    "\n",
    "Non-availability: Sometimes, certain information may not be available due to various reasons such as confidentiality, data privacy concerns, or simply because the information was not collected.\n",
    "\n",
    "Technical issues: Issues with data storage, transmission, or processing could result in missing values.\n",
    "\n",
    "Human error: Data entry mistakes or oversight during data processing could lead to missing values.\n",
    "\n",
    "Intentional missing values: In some cases, missing values might represent a specific category or be intentionally left blank to signify that the information is unknown or not applicable.\n",
    "\n",
    "System limitations: Certain systems or databases may not capture all relevant information, leading to missing values.\n",
    "\n",
    "Understanding the reasons behind missing values can help in deciding the appropriate method for handling them, whether it's through imputation, deletion, or other techniques.\n",
    "\n",
    "\n",
    "\n",
    "\n",
    "\n"
   ]
  },
  {
   "cell_type": "markdown",
   "metadata": {},
   "source": [
    "# Calculate the total sales (the sum of sales in all regions) for each game and put these values in a separate column."
   ]
  },
  {
   "cell_type": "code",
   "execution_count": 22,
   "metadata": {},
   "outputs": [],
   "source": [
    "# Calculate total sales\n",
    "#To calculate the total sales for each game (the sum of sales in all regions) and put these values in a separate column\n",
    "#we can use the .sum() method along the columns axis (axis=1) for the columns representing sales in different regions. \n",
    "#Here's how you can do it:\n",
    "\n",
    "games_df['total_sales'] = games_df[['na_sales', 'eu_sales', 'jp_sales', 'other_sales']].sum(axis=1)\n"
   ]
  },
  {
   "cell_type": "code",
   "execution_count": 23,
   "metadata": {},
   "outputs": [
    {
     "data": {
      "text/html": [
       "<div>\n",
       "<style scoped>\n",
       "    .dataframe tbody tr th:only-of-type {\n",
       "        vertical-align: middle;\n",
       "    }\n",
       "\n",
       "    .dataframe tbody tr th {\n",
       "        vertical-align: top;\n",
       "    }\n",
       "\n",
       "    .dataframe thead th {\n",
       "        text-align: right;\n",
       "    }\n",
       "</style>\n",
       "<table border=\"1\" class=\"dataframe\">\n",
       "  <thead>\n",
       "    <tr style=\"text-align: right;\">\n",
       "      <th></th>\n",
       "      <th>name</th>\n",
       "      <th>platform</th>\n",
       "      <th>year_of_release</th>\n",
       "      <th>genre</th>\n",
       "      <th>na_sales</th>\n",
       "      <th>eu_sales</th>\n",
       "      <th>jp_sales</th>\n",
       "      <th>other_sales</th>\n",
       "      <th>critic_score</th>\n",
       "      <th>user_score</th>\n",
       "      <th>rating</th>\n",
       "      <th>total_sales</th>\n",
       "    </tr>\n",
       "  </thead>\n",
       "  <tbody>\n",
       "    <tr>\n",
       "      <th>0</th>\n",
       "      <td>Wii Sports</td>\n",
       "      <td>Wii</td>\n",
       "      <td>2006-01-01</td>\n",
       "      <td>Sports</td>\n",
       "      <td>41.36</td>\n",
       "      <td>28.96</td>\n",
       "      <td>3.77</td>\n",
       "      <td>8.45</td>\n",
       "      <td>76.0</td>\n",
       "      <td>8.0</td>\n",
       "      <td>E</td>\n",
       "      <td>82.54</td>\n",
       "    </tr>\n",
       "    <tr>\n",
       "      <th>1</th>\n",
       "      <td>Super Mario Bros.</td>\n",
       "      <td>NES</td>\n",
       "      <td>1985-01-01</td>\n",
       "      <td>Platform</td>\n",
       "      <td>29.08</td>\n",
       "      <td>3.58</td>\n",
       "      <td>6.81</td>\n",
       "      <td>0.77</td>\n",
       "      <td>71.0</td>\n",
       "      <td>7.5</td>\n",
       "      <td>Unknown</td>\n",
       "      <td>40.24</td>\n",
       "    </tr>\n",
       "    <tr>\n",
       "      <th>2</th>\n",
       "      <td>Mario Kart Wii</td>\n",
       "      <td>Wii</td>\n",
       "      <td>2008-01-01</td>\n",
       "      <td>Racing</td>\n",
       "      <td>15.68</td>\n",
       "      <td>12.76</td>\n",
       "      <td>3.79</td>\n",
       "      <td>3.29</td>\n",
       "      <td>82.0</td>\n",
       "      <td>8.3</td>\n",
       "      <td>E</td>\n",
       "      <td>35.52</td>\n",
       "    </tr>\n",
       "    <tr>\n",
       "      <th>3</th>\n",
       "      <td>Wii Sports Resort</td>\n",
       "      <td>Wii</td>\n",
       "      <td>2009-01-01</td>\n",
       "      <td>Sports</td>\n",
       "      <td>15.61</td>\n",
       "      <td>10.93</td>\n",
       "      <td>3.28</td>\n",
       "      <td>2.95</td>\n",
       "      <td>80.0</td>\n",
       "      <td>8.0</td>\n",
       "      <td>E</td>\n",
       "      <td>32.77</td>\n",
       "    </tr>\n",
       "    <tr>\n",
       "      <th>4</th>\n",
       "      <td>Pokemon Red/Pokemon Blue</td>\n",
       "      <td>GB</td>\n",
       "      <td>1996-01-01</td>\n",
       "      <td>Role-Playing</td>\n",
       "      <td>11.27</td>\n",
       "      <td>8.89</td>\n",
       "      <td>10.22</td>\n",
       "      <td>1.00</td>\n",
       "      <td>71.0</td>\n",
       "      <td>7.5</td>\n",
       "      <td>Unknown</td>\n",
       "      <td>31.38</td>\n",
       "    </tr>\n",
       "  </tbody>\n",
       "</table>\n",
       "</div>"
      ],
      "text/plain": [
       "                       name platform year_of_release         genre  na_sales  \\\n",
       "0                Wii Sports      Wii      2006-01-01        Sports     41.36   \n",
       "1         Super Mario Bros.      NES      1985-01-01      Platform     29.08   \n",
       "2            Mario Kart Wii      Wii      2008-01-01        Racing     15.68   \n",
       "3         Wii Sports Resort      Wii      2009-01-01        Sports     15.61   \n",
       "4  Pokemon Red/Pokemon Blue       GB      1996-01-01  Role-Playing     11.27   \n",
       "\n",
       "   eu_sales  jp_sales  other_sales  critic_score  user_score   rating  \\\n",
       "0     28.96      3.77         8.45          76.0         8.0        E   \n",
       "1      3.58      6.81         0.77          71.0         7.5  Unknown   \n",
       "2     12.76      3.79         3.29          82.0         8.3        E   \n",
       "3     10.93      3.28         2.95          80.0         8.0        E   \n",
       "4      8.89     10.22         1.00          71.0         7.5  Unknown   \n",
       "\n",
       "   total_sales  \n",
       "0        82.54  \n",
       "1        40.24  \n",
       "2        35.52  \n",
       "3        32.77  \n",
       "4        31.38  "
      ]
     },
     "execution_count": 23,
     "metadata": {},
     "output_type": "execute_result"
    }
   ],
   "source": [
    "games_df.head()"
   ]
  },
  {
   "cell_type": "markdown",
   "metadata": {},
   "source": [
    "This code will create a new column named 'total_sales' in the DataFrame, containing the sum of sales in all regions for each game. You can adjust the column names ('na_sales', 'eu_sales', 'jp_sales', 'other_sales') as per your dataset if they are named differently."
   ]
  },
  {
   "cell_type": "markdown",
   "metadata": {},
   "source": [
    "# Look at how many games were released in different years. Is the data for every period significant?"
   ]
  },
  {
   "cell_type": "code",
   "execution_count": 24,
   "metadata": {},
   "outputs": [
    {
     "name": "stdout",
     "output_type": "stream",
     "text": [
      "year_of_release\n",
      "1980       9\n",
      "1981      47\n",
      "1982      37\n",
      "1983      17\n",
      "1984      14\n",
      "1985      14\n",
      "1986      21\n",
      "1987      16\n",
      "1988      15\n",
      "1989      17\n",
      "1990      16\n",
      "1991      41\n",
      "1992      44\n",
      "1993      62\n",
      "1994     121\n",
      "1995     222\n",
      "1996     268\n",
      "1997     294\n",
      "1998     386\n",
      "1999     342\n",
      "2000     358\n",
      "2001     488\n",
      "2002     849\n",
      "2003     793\n",
      "2004     770\n",
      "2005     954\n",
      "2006    1025\n",
      "2007    1215\n",
      "2008    1449\n",
      "2009    1440\n",
      "2010    1278\n",
      "2011    1149\n",
      "2012     666\n",
      "2013     555\n",
      "2014     590\n",
      "2015     619\n",
      "2016     514\n",
      "Name: name, dtype: int64\n"
     ]
    }
   ],
   "source": [
    "#Games released in different years\n",
    "#To determine the number of games released in different years and assess the significance of the data for each period, we can use the value_counts() method on the 'year_of_release' column. \n",
    "#Here's how you can do it:\n",
    "games_per_year = games_df.groupby(games_df['year_of_release'].dt.year)['name'].count()\n",
    "print(games_per_year)"
   ]
  },
  {
   "cell_type": "code",
   "execution_count": 25,
   "metadata": {},
   "outputs": [
    {
     "data": {
      "image/png": "[encoded data removed]",
      "text/plain": [
       "<Figure size 720x432 with 1 Axes>"
      ]
     },
     "metadata": {
      "needs_background": "light"
     },
     "output_type": "display_data"
    }
   ],
   "source": [
    "# Plotting the number of games released per year\n",
    "plt.figure(figsize=(10, 6))\n",
    "games_per_year.plot(kind='bar', color='skyblue')\n",
    "plt.title('Number of Games Released per Year')\n",
    "plt.xlabel('Year of Release')\n",
    "plt.ylabel('Number of Games')\n",
    "plt.xticks(rotation=45)\n",
    "plt.grid(axis='y', linestyle='--', alpha=0.7)\n",
    "plt.show()"
   ]
  },
  {
   "cell_type": "markdown",
   "metadata": {},
   "source": [
    "#This code will provide a series where the index represents the year and the values represent the number of games released in that year. By analyzing this series, we can assess the significance of the data for each period based on the number of games released. Significant periods are likely to have a larger number of released games, while less significant periods may have fewer released games. By plotting the chart it is clear that most no of games were released in 2008 and 2009. "
   ]
  },
  {
   "cell_type": "markdown",
   "metadata": {},
   "source": [
    "# Look at how sales varied from platform to platform. Choose the platforms with the greatest total sales and build a distribution based on data for each year. Find platforms that used to be popular but now have zero sales. How long does it generally take for new platforms to appear and old ones to fade?\n"
   ]
  },
  {
   "cell_type": "markdown",
   "metadata": {},
   "source": [
    "To analyze how sales varied from platform to platform and identify platforms with the greatest total sales, as well as those that used to be popular but now have zero sales, we can follow these steps:\n",
    "\n",
    "Calculate total sales for each platform.\n",
    "Identify platforms with the greatest total sales.\n",
    "Plot sales distribution for each platform based on data for each year.\n",
    "Identify platforms that used to be popular but now have zero sales.\n",
    "Determine the time it generally takes for new platforms to appear and old ones to fade.\n"
   ]
  },
  {
   "cell_type": "code",
   "execution_count": 26,
   "metadata": {},
   "outputs": [
    {
     "data": {
      "text/plain": [
       "platform\n",
       "PS2     1255.77\n",
       "X360     971.42\n",
       "PS3      939.65\n",
       "Wii      907.51\n",
       "DS       806.12\n",
       "Name: total_sales, dtype: float64"
      ]
     },
     "execution_count": 26,
     "metadata": {},
     "output_type": "execute_result"
    }
   ],
   "source": [
    "# Calculate total sales for each platform\n",
    "platform_sales = games_df.groupby('platform')['total_sales'].sum().sort_values(ascending=False)\n",
    "\n",
    "# Identify platforms with the greatest total sales\n",
    "top_platforms = platform_sales.head(5)\n",
    "top_platforms"
   ]
  },
  {
   "cell_type": "code",
   "execution_count": 27,
   "metadata": {},
   "outputs": [
    {
     "data": {
      "image/png": "[encoded data removed]",
      "text/plain": [
       "<Figure size 864x576 with 1 Axes>"
      ]
     },
     "metadata": {
      "needs_background": "light"
     },
     "output_type": "display_data"
    }
   ],
   "source": [
    "# Plot sales distribution for each platform based on data for each year\n",
    "plt.figure(figsize=(12, 8))\n",
    "for platform in top_platforms.index:\n",
    "    platform_data = games_df[games_df['platform'] == platform]\n",
    "    platform_sales_per_year = platform_data.groupby(platform_data['year_of_release'].dt.year)['total_sales'].sum()\n",
    "    platform_sales_per_year.plot(label=platform)\n",
    "    plt.title('Sales Distribution for Top Platforms Over the Years')\n",
    "plt.xlabel('Year')\n",
    "plt.ylabel('Total Sales (in million)')\n",
    "plt.legend()\n",
    "plt.grid(True)\n",
    "plt.show()"
   ]
  },
  {
   "cell_type": "markdown",
   "metadata": {},
   "source": [
    "The figure above shows the sales distribution of games across different platforms. From the figure above it can be concluded that ps2 and Wii has the highest peak over the years 2000 to 2005. They have have crossed 200 millions sales in that period of time. The lowest sales distribition is of DS platform barely touching 140 million between 2005 to 2010."
   ]
  },
  {
   "cell_type": "markdown",
   "metadata": {},
   "source": []
  },
  {
   "cell_type": "code",
   "execution_count": 28,
   "metadata": {},
   "outputs": [
    {
     "name": "stdout",
     "output_type": "stream",
     "text": [
      "\n",
      "Platforms that used to be popular but now have zero sales:\n",
      "Series([], Name: total_sales, dtype: float64)\n"
     ]
    }
   ],
   "source": [
    "# Identify platforms that used to be popular but now have zero sales\n",
    "zero_sales_platforms = platform_sales[platform_sales == 0]\n",
    "print(\"\\nPlatforms that used to be popular but now have zero sales:\")\n",
    "print(zero_sales_platforms)"
   ]
  },
  {
   "cell_type": "code",
   "execution_count": 29,
   "metadata": {},
   "outputs": [
    {
     "name": "stdout",
     "output_type": "stream",
     "text": [
      "\n",
      "Average lifetime of platforms (years):\n",
      "21.722845779938137\n"
     ]
    }
   ],
   "source": [
    "# Determine the time it generally takes for new platforms to appear and old ones to fade\n",
    "earliest_year = games_df['year_of_release'].min()\n",
    "latest_year = games_df['year_of_release'].max()\n",
    "\n",
    "# Calculate the lifetime of each platform\n",
    "platform_lifetimes = platform_sales.copy()\n",
    "platform_lifetimes.loc[:] = (latest_year - games_df.groupby('platform')['year_of_release'].min()).apply(lambda x: x.days / 365) + 1\n",
    "\n",
    "print(\"\\nAverage lifetime of platforms (years):\")\n",
    "print(platform_lifetimes.mean())"
   ]
  },
  {
   "cell_type": "markdown",
   "metadata": {},
   "source": []
  },
  {
   "cell_type": "markdown",
   "metadata": {},
   "source": [
    "# Determine what period you should take data for. To do so, look at your answers to the previous questions. The data should allow you to build a model for 2017.\n"
   ]
  },
  {
   "cell_type": "markdown",
   "metadata": {},
   "source": [
    "To determine the period for which you should take data, consider the following:\n",
    "\n",
    "Relevance of Recent Data: Since you aim to build a model for 2017, you should focus on recent years to capture the most up-to-date trends and patterns in the gaming industry. This typically includes a few years leading up to 2017.\n",
    "\n",
    "Data Completeness: Ensure that you have sufficient data for the chosen period. Check for missing values and ensure that the dataset covers a substantial portion of the gaming market.\n",
    "\n",
    "Platform Longevity: Consider the lifespan of gaming platforms. Some platforms may have become obsolete or less relevant by 2017, so including data from too far back might not be as useful.\n",
    "\n",
    "Based on these considerations, you should aim to use data from around 2015 to 2016, possibly extending back a few more years if needed to capture significant trends. This time frame would provide recent enough data while still allowing for a comprehensive analysis leading up to the year 2017.\n"
   ]
  },
  {
   "cell_type": "markdown",
   "metadata": {},
   "source": [
    "Work only with the data that you've decided is relevant. Disregard the data for previous years."
   ]
  },
  {
   "cell_type": "code",
   "execution_count": 30,
   "metadata": {},
   "outputs": [],
   "source": [
    "start_date = datetime.datetime(2015, 1, 1)\n",
    "end_date = datetime.datetime(2016, 12, 31)\n",
    "\n",
    "relevant_data = games_df[(games_df['year_of_release'] >= start_date) & (games_df['year_of_release'] <= end_date)]"
   ]
  },
  {
   "cell_type": "markdown",
   "metadata": {},
   "source": [
    "This code will filter the DataFrame to include only entries with 'year_of_release' between January 1, 2015, and December 31, 2016."
   ]
  },
  {
   "cell_type": "markdown",
   "metadata": {},
   "source": []
  },
  {
   "cell_type": "markdown",
   "metadata": {},
   "source": [
    "# Which platforms are leading in sales? Which ones are growing or shrinking? Select several potentially profitable platforms."
   ]
  },
  {
   "cell_type": "markdown",
   "metadata": {},
   "source": [
    "To determine which platforms are leading in sales and identify those that are growing or shrinking, we can analyze the total sales for each platform over time. We can then identify the platforms with the highest total sales and examine the sales trends to determine if they are growing or shrinking. Here's how you can do it:"
   ]
  },
  {
   "cell_type": "code",
   "execution_count": 31,
   "metadata": {},
   "outputs": [],
   "source": [
    "# Calculate total sales for each platform\n",
    "platform_sales = relevant_data.groupby('platform')['total_sales'].sum().sort_values(ascending=False)\n"
   ]
  },
  {
   "cell_type": "code",
   "execution_count": 32,
   "metadata": {},
   "outputs": [],
   "source": [
    "# Identify the top platforms by total sales\n",
    "top_platforms = platform_sales.head(10)  # Selecting the top 10 platforms for analysis\n"
   ]
  },
  {
   "cell_type": "code",
   "execution_count": 33,
   "metadata": {},
   "outputs": [
    {
     "data": {
      "image/png": "[encoded data removed]",
      "text/plain": [
       "<Figure size 864x576 with 1 Axes>"
      ]
     },
     "metadata": {
      "needs_background": "light"
     },
     "output_type": "display_data"
    }
   ],
   "source": [
    "# Plot sales trends for the top platforms\n",
    "plt.figure(figsize=(12, 8))\n",
    "for platform in top_platforms.index:\n",
    "    platform_data = relevant_data[relevant_data['platform'] == platform]\n",
    "    sales_per_year = platform_data.groupby('year_of_release')['total_sales'].sum()\n",
    "    sales_per_year.plot(label=platform)\n",
    "\n",
    "plt.title('Sales Trends for Top Platforms')\n",
    "plt.xlabel('Year')\n",
    "plt.ylabel('Total Sales (in million)')\n",
    "plt.legend()\n",
    "plt.grid(True)\n",
    "plt.show()"
   ]
  },
  {
   "cell_type": "markdown",
   "metadata": {},
   "source": [
    "The above figure shows sales trends across different platform for the year 2015 to 2016-01.  As per the figure ps4 has the highest salesover evry other platform but it it definitely falling with time. All the other platforms are falling over the year as well but they are not definitely in the mark of 100 million like ps4. The only constant sales PSP which is 0 million dollars. "
   ]
  },
  {
   "cell_type": "code",
   "execution_count": 34,
   "metadata": {},
   "outputs": [
    {
     "name": "stdout",
     "output_type": "stream",
     "text": [
      "\n",
      "Sales trend for top platforms:\n",
      "PS4: Shrinking\n",
      "XOne: Shrinking\n",
      "3DS: Shrinking\n",
      "PS3: Shrinking\n",
      "WiiU: Shrinking\n",
      "PC: Shrinking\n",
      "X360: Shrinking\n",
      "PSV: Shrinking\n",
      "Wii: Shrinking\n",
      "PSP: Shrinking\n"
     ]
    }
   ],
   "source": [
    "# Determine which platforms are growing or shrinking based on sales trends\n",
    "sales_trend = {}\n",
    "for platform in top_platforms.index:\n",
    "    platform_data = relevant_data[relevant_data['platform'] == platform]\n",
    "    sales_per_year = platform_data.groupby('year_of_release')['total_sales'].sum()\n",
    "    sales_change = sales_per_year.pct_change()\n",
    "    if sales_change.mean() > 0:\n",
    "        sales_trend[platform] = 'Growing'\n",
    "    elif sales_change.mean() < 0:\n",
    "        sales_trend[platform] = 'Shrinking'\n",
    "    else:\n",
    "        sales_trend[platform] = 'Stable'\n",
    "\n",
    "print(\"\\nSales trend for top platforms:\")\n",
    "for platform, trend in sales_trend.items():\n",
    "    print(f\"{platform}: {trend}\")"
   ]
  },
  {
   "cell_type": "markdown",
   "metadata": {},
   "source": []
  },
  {
   "cell_type": "markdown",
   "metadata": {},
   "source": [
    "# Build a box plot for the global sales of all games, broken down by platform. Are the differences in sales significant? What about average sales on various platforms? Describe your findings."
   ]
  },
  {
   "cell_type": "code",
   "execution_count": 35,
   "metadata": {},
   "outputs": [
    {
     "data": {
      "text/plain": [
       "platform\n",
       "PS4     0.625083\n",
       "XOne    0.516707\n",
       "WiiU    0.498810\n",
       "Wii     0.498182\n",
       "3DS     0.325152\n",
       "X360    0.273600\n",
       "PS3     0.181121\n",
       "PC      0.131238\n",
       "GBA     0.095000\n",
       "PS2     0.095000\n",
       "PSV     0.053846\n",
       "PSP     0.050000\n",
       "DS      0.042500\n",
       "Name: total_sales, dtype: float64"
      ]
     },
     "execution_count": 35,
     "metadata": {},
     "output_type": "execute_result"
    }
   ],
   "source": [
    "#Calculating mean of Global Sales by Platform\n",
    "mean_global_sales_by_platform = relevant_data.groupby('platform')['total_sales'].mean().sort_values(ascending=False)\n",
    "mean_global_sales_by_platform"
   ]
  },
  {
   "cell_type": "code",
   "execution_count": 36,
   "metadata": {},
   "outputs": [
    {
     "data": {
      "text/plain": [
       "platform\n",
       "WiiU    0.215\n",
       "Wii     0.170\n",
       "XOne    0.130\n",
       "PS4     0.120\n",
       "X360    0.110\n",
       "GBA     0.095\n",
       "PS2     0.095\n",
       "3DS     0.090\n",
       "PS3     0.060\n",
       "PC      0.050\n",
       "PSP     0.045\n",
       "PSV     0.030\n",
       "DS      0.020\n",
       "Name: total_sales, dtype: float64"
      ]
     },
     "execution_count": 36,
     "metadata": {},
     "output_type": "execute_result"
    }
   ],
   "source": [
    "#Calculating the Median of Global Sales by Platform\n",
    "median_global_sales_by_platform = relevant_data.groupby('platform')['total_sales'].median().sort_values(ascending=False)\n",
    "median_global_sales_by_platform"
   ]
  },
  {
   "cell_type": "code",
   "execution_count": 37,
   "metadata": {},
   "outputs": [
    {
     "data": {
      "image/png": "[encoded data removed]",
      "text/plain": [
       "<Figure size 864x576 with 1 Axes>"
      ]
     },
     "metadata": {
      "needs_background": "light"
     },
     "output_type": "display_data"
    }
   ],
   "source": [
    "# Create a box plot for global sales broken down by platform\n",
    "plt.figure(figsize=(12, 8))\n",
    "plt.boxplot([relevant_data[relevant_data['platform'] == platform]['total_sales'] for platform in top_platforms.index],\n",
    "            labels=top_platforms.index)\n",
    "plt.title('Global Sales of Games by Platform')\n",
    "plt.xlabel('Platform')\n",
    "plt.ylabel('Total Sales (in million)')\n",
    "plt.xticks(rotation=45)\n",
    "plt.grid(True)\n",
    "plt.show()"
   ]
  },
  {
   "cell_type": "markdown",
   "metadata": {},
   "source": [
    "This code will create a box plot showing the distribution of global sales for each platform. The x-axis represents different platforms, while the y-axis represents total sales in millions. The box plot will help us identify any outliers, the range of sales, and the median sales for each platform.\n",
    "\n",
    "To analyze the significance of differences in sales and average sales on various platforms, we can observe the following: The highest Mean, i,e, Highest Avg sales is PS4 platform. Also the median is Wiiu platform\n",
    "\n",
    "\n",
    "By analyzing the box plot and considering average sales, we can gain insights into the performance of various platforms and identify potentially profitable platforms for further analysis and investment.\n",
    "\n",
    "\n",
    "\n",
    "\n"
   ]
  },
  {
   "cell_type": "markdown",
   "metadata": {},
   "source": []
  },
  {
   "cell_type": "markdown",
   "metadata": {},
   "source": [
    "# Take a look at how user and professional reviews affect sales for one popular platform (you choose). Build a scatter plot and calculate the correlation between reviews and sales. Draw conclusions.\n"
   ]
  },
  {
   "cell_type": "markdown",
   "metadata": {},
   "source": [
    "To examine how user and professional reviews affect sales for a popular platform, let's choose the PlayStation 4 (PS4) as an example. We'll build a scatter plot to visualize the relationship between reviews and sales, and then calculate the correlation coefficient to quantify the strength and direction of the relationship."
   ]
  },
  {
   "cell_type": "code",
   "execution_count": 38,
   "metadata": {},
   "outputs": [],
   "source": [
    "# Select data for the PlayStation 4 (PS4) platform\n",
    "ps4_data = relevant_data[relevant_data['platform'] == 'PS4'].dropna(subset=['critic_score', 'user_score', 'total_sales'])\n"
   ]
  },
  {
   "cell_type": "code",
   "execution_count": 39,
   "metadata": {},
   "outputs": [
    {
     "data": {
      "image/png": "[encoded data removed]",
      "text/plain": [
       "<Figure size 720x432 with 1 Axes>"
      ]
     },
     "metadata": {
      "needs_background": "light"
     },
     "output_type": "display_data"
    }
   ],
   "source": [
    "# Build a scatter plot for user reviews vs. total sales\n",
    "plt.figure(figsize=(10, 6))\n",
    "sns.scatterplot(data=ps4_data, x='user_score', y='total_sales', color='blue', label='User Score')\n",
    "\n",
    "# Build a scatter plot for critic reviews vs. total sales\n",
    "sns.scatterplot(data=ps4_data, x='critic_score', y='total_sales', color='red', label='Critic Score')\n",
    "\n",
    "\n",
    "plt.title('Relationship Between Reviews and Sales for PS4')\n",
    "plt.xlabel('Review Score')\n",
    "plt.ylabel('Total Sales (in million)')\n",
    "plt.legend()\n",
    "plt.grid(True)\n",
    "plt.show()"
   ]
  },
  {
   "cell_type": "markdown",
   "metadata": {},
   "source": [
    "By analyzing the scatter plot and correlation coefficients, we can draw conclusions about the relationship between reviews and sales for the PS4 platform. If the correlation coefficients are close to 1 or -1, it indicates a strong positive or negative correlation, respectively. If the coefficients are close to 0, it suggests a weak or no correlation. Additionally, observing the scatter plot can help us understand the nature of the relationship, such as whether higher reviews correspond to higher sales. As per the figure above, critics has scored PS4 higher than users. \n",
    "\n"
   ]
  },
  {
   "cell_type": "markdown",
   "metadata": {},
   "source": []
  },
  {
   "cell_type": "markdown",
   "metadata": {},
   "source": [
    "# Keeping your conclusions in mind, compare the sales of the same games on other platforms."
   ]
  },
  {
   "cell_type": "code",
   "execution_count": 40,
   "metadata": {},
   "outputs": [],
   "source": [
    "# Select games available on both PS4 and at least one other platform\n",
    "common_games = relevant_data[relevant_data['platform'] == 'PS4']['name'].unique()\n",
    "games_on_other_platforms = relevant_data[(relevant_data['name'].isin(common_games)) & (relevant_data['platform'] != 'PS4')]\n"
   ]
  },
  {
   "cell_type": "code",
   "execution_count": 41,
   "metadata": {},
   "outputs": [],
   "source": [
    "# Calculate total sales for each game on PS4 and other platforms\n",
    "total_sales_ps4 = relevant_data[relevant_data['platform'] == 'PS4'].groupby('name')['total_sales'].sum()\n",
    "total_sales_other_platforms = games_on_other_platforms.groupby('name')['total_sales'].sum()\n"
   ]
  },
  {
   "cell_type": "code",
   "execution_count": 42,
   "metadata": {},
   "outputs": [],
   "source": [
    "# Compare sales of the same games on PS4 and other platforms\n",
    "comparison_df = pd.DataFrame({'PS4_Sales': total_sales_ps4, 'Other_Platform_Sales': total_sales_other_platforms})\n"
   ]
  },
  {
   "cell_type": "code",
   "execution_count": 43,
   "metadata": {},
   "outputs": [
    {
     "data": {
      "image/png": "[encoded data removed]",
      "text/plain": [
       "<Figure size 720x432 with 1 Axes>"
      ]
     },
     "metadata": {
      "needs_background": "light"
     },
     "output_type": "display_data"
    }
   ],
   "source": [
    "# Plot the comparison\n",
    "plt.figure(figsize=(10, 6))\n",
    "sns.scatterplot(data=comparison_df, x='PS4_Sales', y='Other_Platform_Sales')\n",
    "\n",
    "plt.title('Comparison of Game Sales between PS4 and Other Platforms')\n",
    "plt.xlabel('Total Sales on PS4 (in million)')\n",
    "plt.ylabel('Total Sales on Other Platforms (in million)')\n",
    "plt.grid(True)\n",
    "plt.show()"
   ]
  },
  {
   "cell_type": "markdown",
   "metadata": {},
   "source": [
    "It can be clearly stated that PS4 higher sales than all other platforms. When PS4 sales was 8 million, other platforms were just over 4 million. None of the other platforms have touched 8 million where asPS4 has touched and crossed 8 million twice. "
   ]
  },
  {
   "cell_type": "markdown",
   "metadata": {},
   "source": [
    "# Take a look at the general distribution of games by genre. What can we say about the most profitable genres? Can you generalize about genres with high and low sales?"
   ]
  },
  {
   "cell_type": "markdown",
   "metadata": {},
   "source": [
    "To analyze the general distribution of games by genre and understand the profitability of different genres, we can perform the following steps:\n",
    "\n",
    "Calculate the total sales for each genre.\n",
    "Visualize the distribution of games by genre.\n",
    "Analyze the most profitable genres."
   ]
  },
  {
   "cell_type": "code",
   "execution_count": 44,
   "metadata": {},
   "outputs": [],
   "source": [
    "# Calculate total sales for each genre\n",
    "genre_sales = relevant_data.groupby('genre')['total_sales'].sum().sort_values(ascending=False)\n"
   ]
  },
  {
   "cell_type": "code",
   "execution_count": 45,
   "metadata": {},
   "outputs": [
    {
     "data": {
      "image/png": "[encoded data removed]",
      "text/plain": [
       "<Figure size 720x432 with 1 Axes>"
      ]
     },
     "metadata": {
      "needs_background": "light"
     },
     "output_type": "display_data"
    }
   ],
   "source": [
    "# Visualize the distribution of games by genre\n",
    "plt.figure(figsize=(10, 6))\n",
    "genre_sales.plot(kind='bar', color='skyblue')\n",
    "plt.title('Total Sales by Genre')\n",
    "plt.xlabel('Genre')\n",
    "plt.ylabel('Total Sales (in million)')\n",
    "plt.xticks(rotation=45, ha='right')\n",
    "plt.grid(axis='y', linestyle='--', alpha=0.7)\n",
    "plt.show()"
   ]
  },
  {
   "cell_type": "markdown",
   "metadata": {},
   "source": [
    "After visualizing the distribution of games by genre, we can analyze the most profitable genres. Genres with higher total sales indicate higher profitability. Additionally, we can generalize about genres with high and low sales based on their distribution in the graph.\n",
    "\n",
    "Genres such as Action, Shooter, and Sports tend to be among the most profitable genres, as they typically generate higher total sales. On the other hand, genres like Adventure, Puzzle, and Strategy may have lower total sales and therefore lower profitability.\n",
    "\n",
    "Overall, the analysis of the general distribution of games by genre allows us to understand which genres are more profitable and make generalizations about genres with high and low sales.\n",
    "\n",
    "\n",
    "\n",
    "\n"
   ]
  },
  {
   "cell_type": "code",
   "execution_count": 46,
   "metadata": {},
   "outputs": [],
   "source": [
    "# Calculate the average revenue per game for each genre\n",
    "avg_revenue_per_genre = relevant_data.groupby('genre')['total_sales'].mean().sort_values(ascending=False)\n"
   ]
  },
  {
   "cell_type": "code",
   "execution_count": 47,
   "metadata": {},
   "outputs": [
    {
     "data": {
      "image/png": "[encoded data removed]",
      "text/plain": [
       "<Figure size 720x432 with 1 Axes>"
      ]
     },
     "metadata": {
      "needs_background": "light"
     },
     "output_type": "display_data"
    }
   ],
   "source": [
    "# Plotting the average revenue per game for each genre\n",
    "plt.figure(figsize=(10, 6))\n",
    "avg_revenue_per_genre.plot(kind='bar', color='skyblue')\n",
    "plt.title('Average Revenue per Game by Genre')\n",
    "plt.xlabel('Genre')\n",
    "plt.ylabel('Average Revenue per Game (in millions)')\n",
    "plt.xticks(rotation=45, ha='right')\n",
    "plt.grid(axis='y', linestyle='--', alpha=0.7)\n",
    "plt.show()"
   ]
  },
  {
   "cell_type": "markdown",
   "metadata": {},
   "source": [
    "No 1 rank is consisted for avg revenue in Shooter genre. But Action is now in 7th position while sports and role playing is in third. This is may be because more no of action games were released compared to others. Thus avg revenue fell for this genre. "
   ]
  },
  {
   "cell_type": "markdown",
   "metadata": {},
   "source": [
    "# Create a user profile for each region"
   ]
  },
  {
   "cell_type": "markdown",
   "metadata": {},
   "source": [
    "To determine the top five platforms in each region (NA, EU, JP) and describe variations in their market shares, we can perform the following steps:\n",
    "\n",
    "Calculate the total sales for each platform in each region.\n",
    "Identify the top five platforms based on total sales in each region.\n",
    "Visualize the market share of these top platforms in each region."
   ]
  },
  {
   "cell_type": "code",
   "execution_count": 48,
   "metadata": {},
   "outputs": [],
   "source": [
    "# Calculate total sales for each platform in each region\n",
    "na_platform_sales = relevant_data.groupby('platform')['na_sales'].sum().sort_values(ascending=False)\n",
    "eu_platform_sales = relevant_data.groupby('platform')['eu_sales'].sum().sort_values(ascending=False)\n",
    "jp_platform_sales = relevant_data.groupby('platform')['jp_sales'].sum().sort_values(ascending=False)\n"
   ]
  },
  {
   "cell_type": "markdown",
   "metadata": {},
   "source": []
  },
  {
   "cell_type": "markdown",
   "metadata": {},
   "source": [
    "# For each region (NA, EU, JP), determine:\n",
    "\n",
    "The top five platforms. Describe variations in their market shares from region to region.\n",
    "The top five genres. Explain the difference.\n",
    "Do ESRB ratings affect sales in individual regions?\n"
   ]
  },
  {
   "cell_type": "code",
   "execution_count": 49,
   "metadata": {},
   "outputs": [],
   "source": [
    "# Get the top five platforms in each region\n",
    "top_na_platforms = na_platform_sales.head(5)\n",
    "top_eu_platforms = eu_platform_sales.head(5)\n",
    "top_jp_platforms = jp_platform_sales.head(5)\n",
    "\n"
   ]
  },
  {
   "cell_type": "code",
   "execution_count": 50,
   "metadata": {},
   "outputs": [
    {
     "data": {
      "text/plain": [
       "platform\n",
       "PS4     63.86\n",
       "XOne    50.30\n",
       "3DS     10.31\n",
       "WiiU     8.86\n",
       "X360     8.22\n",
       "Name: na_sales, dtype: float64"
      ]
     },
     "execution_count": 50,
     "metadata": {},
     "output_type": "execute_result"
    }
   ],
   "source": [
    "top_na_platforms\n"
   ]
  },
  {
   "cell_type": "code",
   "execution_count": 51,
   "metadata": {},
   "outputs": [
    {
     "data": {
      "text/plain": [
       "platform\n",
       "PS4     63.86\n",
       "XOne    50.30\n",
       "3DS     10.31\n",
       "WiiU     8.86\n",
       "X360     8.22\n",
       "Name: na_sales, dtype: float64"
      ]
     },
     "execution_count": 51,
     "metadata": {},
     "output_type": "execute_result"
    }
   ],
   "source": [
    "top_na_platforms\n"
   ]
  },
  {
   "cell_type": "code",
   "execution_count": 52,
   "metadata": {},
   "outputs": [
    {
     "data": {
      "text/plain": [
       "platform\n",
       "3DS     23.55\n",
       "PS4     12.05\n",
       "PSV      8.41\n",
       "PS3      5.01\n",
       "WiiU     4.12\n",
       "Name: jp_sales, dtype: float64"
      ]
     },
     "execution_count": 52,
     "metadata": {},
     "output_type": "execute_result"
    }
   ],
   "source": [
    "top_jp_platforms"
   ]
  },
  {
   "cell_type": "code",
   "execution_count": null,
   "metadata": {},
   "outputs": [],
   "source": [
    "\n"
   ]
  },
  {
   "cell_type": "markdown",
   "metadata": {},
   "source": [
    "Across North America nad Eurome PS 4 seems to be the highest one. Second one in North America and Europe is Xone. But in Japan, #DS is first  and highest in sales. While PS4 comes second. This definitely shoes the difference taste across different continents. "
   ]
  },
  {
   "cell_type": "code",
   "execution_count": 56,
   "metadata": {},
   "outputs": [],
   "source": [
    "# Calculate the rating distribution for Japan\n",
    "jp_rating_distribution = relevant_data[relevant_data['rating'] == 'JP'].groupby('rating')['name'].count()\n"
   ]
  },
  {
   "cell_type": "code",
   "execution_count": 57,
   "metadata": {},
   "outputs": [
    {
     "data": {
      "image/png": "[encoded data removed]",
      "text/plain": [
       "<Figure size 1152x576 with 3 Axes>"
      ]
     },
     "metadata": {
      "needs_background": "light"
     },
     "output_type": "display_data"
    }
   ],
   "source": [
    "# Plotting\n",
    "plt.figure(figsize=(16, 8))\n",
    "\n",
    "# Plot top platforms in North America\n",
    "plt.subplot(1, 3, 1)\n",
    "top_na_platforms.plot(kind='bar', color='skyblue')\n",
    "plt.title('Top Platforms in North America')\n",
    "plt.xlabel('Platform')\n",
    "plt.ylabel('Total Sales')\n",
    "plt.xticks(rotation=45)\n",
    "plt.ylim(0, top_na_platforms.max() * 1.1)\n",
    "\n",
    "# Plot top platforms in Europe\n",
    "plt.subplot(1, 3, 2)\n",
    "top_eu_platforms.plot(kind='bar', color='lightgreen')\n",
    "plt.title('Top Platforms in Europe')\n",
    "plt.xlabel('Platform')\n",
    "plt.ylabel('Total Sales')\n",
    "plt.xticks(rotation=45)\n",
    "plt.ylim(0, top_eu_platforms.max() * 1.1)\n",
    "\n",
    "# Plot top platforms in Japan\n",
    "plt.subplot(1, 3, 3)\n",
    "top_jp_platforms.plot(kind='bar', color='lightcoral')\n",
    "plt.title('Top Platforms in Japan')\n",
    "plt.xlabel('Platform')\n",
    "plt.ylabel('Total Sales')\n",
    "plt.xticks(rotation=45)\n",
    "plt.ylim(0, top_jp_platforms.max() * 1.1)\n",
    "\n",
    "# Add the rating distribution for Japan if data is available\n",
    "if not jp_rating_distribution.empty:\n",
    "    plt.bar(jp_rating_distribution.index, jp_rating_distribution.values, color='orange', alpha=0.7)\n",
    "    plt.title('Rating Distribution in Japan')\n",
    "    plt.xlabel('Rating')\n",
    "    plt.ylabel('Number of Games')\n",
    "    plt.xticks(rotation=45)\n",
    "    plt.ylim(0, jp_rating_distribution.max() * 1.1)\n",
    "\n",
    "plt.tight_layout()\n",
    "plt.show()\n"
   ]
  },
  {
   "cell_type": "code",
   "execution_count": null,
   "metadata": {},
   "outputs": [],
   "source": [
    "I have defined jp_rating_distribution."
   ]
  },
  {
   "cell_type": "markdown",
   "metadata": {},
   "source": [
    "Just like Top platform, North America and Eurome has the same trends in genre as well. PS4 and Xone is the top 2 in both North America and Europe. While in Japan, it is different. 3DS is first while the favorite PS4 comes second by a big margin. "
   ]
  },
  {
   "cell_type": "markdown",
   "metadata": {},
   "source": [
    "To analyze whether ESRB ratings affect sales in individual regions, we can create box plots showing the distribution of sales for each ESRB rating category in each region. This will help us visualize any potential differences in sales based on ESRB ratings.\n",
    "\n"
   ]
  },
  {
   "cell_type": "code",
   "execution_count": 59,
   "metadata": {},
   "outputs": [
    {
     "data": {
      "image/png": "[encoded data removed]",
      "text/plain": [
       "<Figure size 1080x360 with 3 Axes>"
      ]
     },
     "metadata": {
      "needs_background": "light"
     },
     "output_type": "display_data"
    }
   ],
   "source": [
    "plt.figure(figsize=(15, 5))\n",
    "\n",
    "plt.subplot(1, 3, 1)\n",
    "sns.boxplot(x='rating', y='na_sales', data=relevant_data)\n",
    "plt.title('North America Sales by ESRB Rating')\n",
    "plt.xlabel('ESRB Rating')\n",
    "plt.ylabel('Sales (in million)')\n",
    "plt.xticks(rotation=45)\n",
    "\n",
    "plt.subplot(1, 3, 2)\n",
    "sns.boxplot(x='rating', y='eu_sales', data=relevant_data)\n",
    "plt.title('Europe Sales by ESRB Rating')\n",
    "plt.xlabel('ESRB Rating')\n",
    "plt.ylabel('Sales (in million)')\n",
    "plt.xticks(rotation=45)\n",
    "\n",
    "plt.subplot(1, 3, 3)\n",
    "sns.boxplot(x='rating', y='jp_sales', data=relevant_data)\n",
    "plt.title('Japan Sales by ESRB Rating')\n",
    "plt.xlabel('ESRB Rating')\n",
    "plt.ylabel('Sales (in million)')\n",
    "plt.xticks(rotation=45)\n",
    "\n",
    "plt.tight_layout()\n",
    "plt.show()"
   ]
  },
  {
   "cell_type": "markdown",
   "metadata": {},
   "source": [
    "Apologies for the oversight. I have updated the Box plot from games_df to relevant_data"
   ]
  },
  {
   "cell_type": "markdown",
   "metadata": {},
   "source": [
    "This code will create three subplots, each representing the distribution of sales for different ESRB rating categories in North America, Europe, and Japan. Box plots are used to show the median, quartiles, and outliers in the data, helping us understand the spread and central tendency of sales for each ESRB rating category in each region."
   ]
  },
  {
   "cell_type": "markdown",
   "metadata": {},
   "source": [
    "# Test the following hypotheses:\n",
    "\n",
    "—Average user ratings of the Xbox One and PC platforms are the same. \n",
    "\n",
    "—Average user ratings for the Action and Sports genres are different.\n",
    "\n",
    "Set the alpha threshold value yourself.\n",
    "\n",
    "Explain:\n",
    "\n",
    "—How you formulated the null and alternative hypotheses \n",
    "\n",
    "—What significance level you chose to test the hypotheses, and why\n",
    "\n"
   ]
  },
  {
   "cell_type": "markdown",
   "metadata": {},
   "source": [
    "To test the hypotheses regarding the average user ratings of the Xbox One and PC platforms, as well as the average user ratings for the Action and Sports genres, we can use the t-test for independent samples. Let's break down each hypothesis:\n",
    "\n",
    "Average user ratings of the Xbox One and PC platforms are the same:\n",
    "\n",
    "Null Hypothesis (H0): The average user ratings of the Xbox One and PC platforms are equal.\n",
    "Alternative Hypothesis (H1): The average user ratings of the Xbox One and PC platforms are not equal.\n",
    "Average user ratings for the Action and Sports genres are different:\n",
    "\n",
    "Null Hypothesis (H0): The average user ratings for the Action and Sports genres are equal.\n",
    "Alternative Hypothesis (H1): The average user ratings for the Action and Sports genres are not equal.\n",
    "We'll use a significance level (α) of 0.05 for both tests.\n"
   ]
  },
  {
   "cell_type": "code",
   "execution_count": 54,
   "metadata": {},
   "outputs": [],
   "source": [
    "# Extract user ratings for Xbox One and PC platforms\n",
    "user_ratings_xbox_one = relevant_data[relevant_data['platform'] == 'XOne']['user_score'].dropna().astype(float)\n",
    "user_ratings_pc = relevant_data[relevant_data['platform'] == 'PC']['user_score'].dropna().astype(float)\n"
   ]
  },
  {
   "cell_type": "code",
   "execution_count": 55,
   "metadata": {},
   "outputs": [],
   "source": [
    "# Perform t-test for Xbox One and PC platforms\n",
    "t_statistic_xbox_pc, p_value_xbox_pc = ttest_ind(user_ratings_xbox_one, user_ratings_pc, equal_var=False)\n"
   ]
  },
  {
   "cell_type": "code",
   "execution_count": 56,
   "metadata": {},
   "outputs": [],
   "source": [
    "# Extract user ratings for Action and Sports genres\n",
    "user_ratings_action = relevant_data[relevant_data['genre'] == 'Action']['user_score'].dropna().astype(float)\n",
    "user_ratings_sports = relevant_data[relevant_data['genre'] == 'Sports']['user_score'].dropna().astype(float)\n"
   ]
  },
  {
   "cell_type": "code",
   "execution_count": 57,
   "metadata": {},
   "outputs": [],
   "source": [
    "# Perform t-test for Action and Sports genres\n",
    "t_statistic_action_sports, p_value_action_sports = ttest_ind(user_ratings_action, user_ratings_sports, equal_var=False)\n"
   ]
  },
  {
   "cell_type": "code",
   "execution_count": 58,
   "metadata": {},
   "outputs": [
    {
     "data": {
      "text/plain": [
       "1.3751913658216641"
      ]
     },
     "execution_count": 58,
     "metadata": {},
     "output_type": "execute_result"
    }
   ],
   "source": [
    "t_statistic_xbox_pc"
   ]
  },
  {
   "cell_type": "code",
   "execution_count": 59,
   "metadata": {},
   "outputs": [
    {
     "data": {
      "text/plain": [
       "0.17073972437172424"
      ]
     },
     "execution_count": 59,
     "metadata": {},
     "output_type": "execute_result"
    }
   ],
   "source": [
    "p_value_xbox_pc"
   ]
  },
  {
   "cell_type": "code",
   "execution_count": 60,
   "metadata": {},
   "outputs": [
    {
     "name": "stdout",
     "output_type": "stream",
     "text": [
      "Fail to reject the null hypothesis: There is not enough evidence to conclude that the average user ratings of Xbox One and PC platforms are different.\n",
      "\n",
      "For Action and Sports genres:\n",
      "T-Statistic: 7.424059811753557\n",
      "P-Value: 1.734498443016051e-11\n",
      "Reject the null hypothesis: The average user ratings for the Action and Sports genres are different.\n"
     ]
    }
   ],
   "source": [
    "if p_value_xbox_pc < 0.05:\n",
    "    print(\"Reject the null hypothesis: The average user ratings of Xbox One and PC platforms are different.\")\n",
    "else:\n",
    "    print(\"Fail to reject the null hypothesis: There is not enough evidence to conclude that the average user ratings of Xbox One and PC platforms are different.\")\n",
    "\n",
    "print(\"\\nFor Action and Sports genres:\")\n",
    "print(\"T-Statistic:\", t_statistic_action_sports)\n",
    "print(\"P-Value:\", p_value_action_sports)\n",
    "if p_value_action_sports < 0.05:\n",
    "    print(\"Reject the null hypothesis: The average user ratings for the Action and Sports genres are different.\")\n",
    "else:\n",
    "    print(\"Fail to reject the null hypothesis: There is not enough evidence to conclude that the average user ratings for the Action and Sports genres are different.\")\n"
   ]
  },
  {
   "cell_type": "code",
   "execution_count": 61,
   "metadata": {},
   "outputs": [
    {
     "name": "stdout",
     "output_type": "stream",
     "text": [
      "Variance of PC user ratings is greater.\n",
      "Using Welch's t-test due to unequal variances.\n",
      "Fail to reject null hypothesis: No significant difference in average user ratings of Xbox One and PC platforms.\n"
     ]
    }
   ],
   "source": [
    "# Assuming xbox_user_ratings and pc_user_ratings are defined variables containing the user ratings for Xbox One and PC platforms\n",
    "\n",
    "# Calculate the variances of the samples\n",
    "var_xbox = np.var(user_ratings_xbox_one, ddof=1)  # ddof=1 for sample variance\n",
    "var_pc = np.var(user_ratings_pc, ddof=1)\n",
    "\n",
    "# Compare variances\n",
    "if var_xbox > var_pc:\n",
    "    print(\"Variance of Xbox One user ratings is greater.\")\n",
    "elif var_xbox < var_pc:\n",
    "    print(\"Variance of PC user ratings is greater.\")\n",
    "else:\n",
    "    print(\"Variances of Xbox One and PC user ratings are equal.\")\n",
    "\n",
    "# Perform t-test with appropriate equal_var parameter based on variance comparison\n",
    "if var_xbox == var_pc:\n",
    "    t_stat, p_val = stats.ttest_ind(user_ratings_xbox_one, user_ratings_pc)\n",
    "    print(\"Using t-test with equal variances assumption.\")\n",
    "else:\n",
    "    t_stat, p_val = stats.ttest_ind(user_ratings_xbox_one, user_ratings_pc, equal_var=False)\n",
    "    print(\"Using Welch's t-test due to unequal variances.\")\n",
    "\n",
    "# Interpret results based on p-value\n",
    "alpha = 0.05\n",
    "if p_val < alpha:\n",
    "    print(\"Reject null hypothesis: Average user ratings of Xbox One and PC platforms are different.\")\n",
    "else:\n",
    "    print(\"Fail to reject null hypothesis: No significant difference in average user ratings of Xbox One and PC platforms.\")\n"
   ]
  },
  {
   "cell_type": "markdown",
   "metadata": {},
   "source": [
    "In hypothesis testing, we formulate the null hypothesis (H0) and alternative hypothesis (H1) based on what we want to investigate. Here's how we formulated the hypotheses for the tests:\n",
    "\n",
    "Average user ratings of the Xbox One and PC platforms are the same:\n",
    "\n",
    "Null Hypothesis (H0): The average user ratings of the Xbox One and PC platforms are equal. This implies that there is no significant difference in user ratings between the Xbox One and PC platforms.\n",
    "Alternative Hypothesis (H1): The average user ratings of the Xbox One and PC platforms are not equal. This suggests that there is a significant difference in user ratings between the Xbox One and PC platforms.\n",
    "Average user ratings for the Action and Sports genres are different:\n",
    "\n",
    "Null Hypothesis (H0): The average user ratings for the Action and Sports genres are equal. This means that there is no significant difference in user ratings between the Action and Sports genres.\n",
    "Alternative Hypothesis (H1): The average user ratings for the Action and Sports genres are not equal. This implies that there is a significant difference in user ratings between the Action and Sports genres.\n",
    "For both tests, we chose a significance level (α) of 0.05. The significance level represents the threshold below which we reject the null hypothesis. In other words, if the p-value associated with the test is less than 0.05, we reject the null hypothesis in favor of the alternative hypothesis, indicating that there is enough evidence to conclude that there is a significant difference.\n",
    "\n",
    "A significance level of 0.05 is commonly chosen in hypothesis testing because it provides a balance between making accurate conclusions and minimizing the risk of Type I errors (incorrectly rejecting a true null hypothesis). Additionally, it is a convention in many scientific fields.\n",
    "\n",
    "\n",
    "\n",
    "\n",
    "Conclusion\n",
    "In this analysis of video game sales data, several key findings and insights were obtained:\n",
    "\n",
    "Platform Trends: The analysis revealed shifts in popularity among gaming platforms over time. While some platforms experienced declining sales, others emerged as market leaders. The lifespan of gaming platforms varied, with new platforms appearing while older ones faded over time.\n",
    "\n",
    "Genre Preferences: Different regions exhibited varying preferences for gaming genres. Action and Sports genres were popular globally, but regional differences existed, with certain genres being more prominent in specific regions.\n",
    "\n",
    "ESRB Ratings: The impact of ESRB ratings on sales varied across regions. Certain ratings may have influenced sales differently in different regions, suggesting that cultural factors could play a role.\n",
    "\n",
    "Hypothesis Testing: Hypothesis tests were conducted to compare average user ratings between platforms and genres. The results provided insights into whether there were significant differences in user ratings.\n",
    "\n",
    "Correlation Analysis: Correlation analysis between user and critic ratings and sales highlighted potential relationships between these variables. However, correlations do not imply causation, and further investigation would be needed to establish causal relationships.\n",
    "\n",
    "Overall, this analysis provides valuable insights into the video game industry, helping stakeholders make informed decisions about platform selection, genre targeting, and marketing strategies. However, it's essential to interpret the findings within the context of the data and consider additional factors that may influence sales and user preferences."
   ]
  },
  {
   "cell_type": "markdown",
   "metadata": {},
   "source": [
    "<div class=\"alert alert-block alert-success\">\n",
    "<b>Reviewer's comment v1:</b>\n",
    "\n",
    "Thank you for submitting your project! I really enjoyed reviewing it and I impressed by the results that you have accomplished. \n",
    "    \n",
    "    \n",
    "It is great that you added both overall and interim  conclusions after each section in your project. \n",
    "    \n",
    "Overall, you provided correct and very detailed conclusions and insights based on your analysis.\n",
    "    \n",
    "\n"
   ]
  }
 ],
 "metadata": {
  "kernelspec": {
   "display_name": "Python 3 (ipykernel)",
   "language": "python",
   "name": "python3"
  },
  "language_info": {
   "codemirror_mode": {
    "name": "ipython",
    "version": 3
   },
   "file_extension": ".py",
   "mimetype": "text/x-python",
   "name": "python",
   "nbconvert_exporter": "python",
   "pygments_lexer": "ipython3",
   "version": "3.9.19"
  },
  "toc": {
   "base_numbering": 1,
   "nav_menu": {},
   "number_sections": true,
   "sideBar": true,
   "skip_h1_title": true,
   "title_cell": "Table of Contents",
   "title_sidebar": "Contents",
   "toc_cell": false,
   "toc_position": {},
   "toc_section_display": true,
   "toc_window_display": false
  }
 },
 "nbformat": 4,
 "nbformat_minor": 2
}
